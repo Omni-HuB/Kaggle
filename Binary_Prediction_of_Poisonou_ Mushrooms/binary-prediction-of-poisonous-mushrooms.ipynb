{
 "cells": [
  {
   "cell_type": "markdown",
   "id": "4d080104",
   "metadata": {
    "papermill": {
     "duration": 0.003279,
     "end_time": "2024-08-01T07:02:25.242363",
     "exception": false,
     "start_time": "2024-08-01T07:02:25.239084",
     "status": "completed"
    },
    "tags": []
   },
   "source": [
    "## importing Libraries"
   ]
  },
  {
   "cell_type": "code",
   "execution_count": 1,
   "id": "ceff37fd",
   "metadata": {
    "execution": {
     "iopub.execute_input": "2024-08-01T07:02:25.249740Z",
     "iopub.status.busy": "2024-08-01T07:02:25.249358Z",
     "iopub.status.idle": "2024-08-01T07:02:27.346216Z",
     "shell.execute_reply": "2024-08-01T07:02:27.345194Z"
    },
    "papermill": {
     "duration": 2.103489,
     "end_time": "2024-08-01T07:02:27.348790",
     "exception": false,
     "start_time": "2024-08-01T07:02:25.245301",
     "status": "completed"
    },
    "tags": []
   },
   "outputs": [],
   "source": [
    "import pandas as pd\n",
    "import numpy as np\n",
    "import seaborn as sns\n",
    "import matplotlib.pyplot as plt\n",
    "import warnings\n",
    "import os\n",
    "warnings.filterwarnings('ignore')"
   ]
  },
  {
   "cell_type": "markdown",
   "id": "74cac908",
   "metadata": {
    "papermill": {
     "duration": 0.002542,
     "end_time": "2024-08-01T07:02:27.354282",
     "exception": false,
     "start_time": "2024-08-01T07:02:27.351740",
     "status": "completed"
    },
    "tags": []
   },
   "source": [
    "## Checking availability of Datasets"
   ]
  },
  {
   "cell_type": "code",
   "execution_count": 2,
   "id": "f8762894",
   "metadata": {
    "_cell_guid": "b1076dfc-b9ad-4769-8c92-a6c4dae69d19",
    "_uuid": "8f2839f25d086af736a60e9eeb907d3b93b6e0e5",
    "execution": {
     "iopub.execute_input": "2024-08-01T07:02:27.362139Z",
     "iopub.status.busy": "2024-08-01T07:02:27.361066Z",
     "iopub.status.idle": "2024-08-01T07:02:27.369379Z",
     "shell.execute_reply": "2024-08-01T07:02:27.368211Z"
    },
    "papermill": {
     "duration": 0.014591,
     "end_time": "2024-08-01T07:02:27.371685",
     "exception": false,
     "start_time": "2024-08-01T07:02:27.357094",
     "status": "completed"
    },
    "tags": []
   },
   "outputs": [
    {
     "name": "stdout",
     "output_type": "stream",
     "text": [
      "dirname: /kaggle/input\n",
      "no file in the directory!! Please add a dataset \n",
      "dirname: /kaggle/input/playground-series-s4e8\n",
      "/kaggle/input/playground-series-s4e8/sample_submission.csv\n",
      "/kaggle/input/playground-series-s4e8/train.csv\n",
      "/kaggle/input/playground-series-s4e8/test.csv\n"
     ]
    }
   ],
   "source": [
    "# Input data files are available in the read-only \"../input/\" directory\n",
    "# For example, running this (by clicking run or pressing Shift+Enter) will list all files under the input directory\n",
    "\n",
    "import os\n",
    "for dirname, _, filenames in os.walk('/kaggle/input'):\n",
    "    print(\"dirname:\" , dirname)\n",
    "    if len(filenames) == 0 :\n",
    "        print(\"no file in the directory!! Please add a dataset \")  \n",
    "        \n",
    "    else:\n",
    "        for filename in filenames:\n",
    "            print(os.path.join(dirname, filename))\n",
    "        \n",
    "       \n",
    "# You can write up to 20GB to the current directory (/kaggle/working/) that gets preserved as output when you create a version using \"Save & Run All\" \n",
    "# You can also write temporary files to /kaggle/temp/, but they won't be saved outside of the current session"
   ]
  },
  {
   "cell_type": "markdown",
   "id": "26339be6",
   "metadata": {
    "papermill": {
     "duration": 0.00283,
     "end_time": "2024-08-01T07:02:27.377842",
     "exception": false,
     "start_time": "2024-08-01T07:02:27.375012",
     "status": "completed"
    },
    "tags": []
   },
   "source": [
    "## Loading Datasets"
   ]
  },
  {
   "cell_type": "code",
   "execution_count": 3,
   "id": "ae5477a0",
   "metadata": {
    "execution": {
     "iopub.execute_input": "2024-08-01T07:02:27.385697Z",
     "iopub.status.busy": "2024-08-01T07:02:27.385004Z",
     "iopub.status.idle": "2024-08-01T07:02:44.467714Z",
     "shell.execute_reply": "2024-08-01T07:02:44.466569Z"
    },
    "papermill": {
     "duration": 17.089223,
     "end_time": "2024-08-01T07:02:44.470159",
     "exception": false,
     "start_time": "2024-08-01T07:02:27.380936",
     "status": "completed"
    },
    "tags": []
   },
   "outputs": [],
   "source": [
    "data_train=pd.read_csv(\"/kaggle/input/playground-series-s4e8/train.csv\")\n",
    "data_test=pd.read_csv(\"/kaggle/input/playground-series-s4e8/test.csv\")\n",
    "data_sample_sub=pd.read_csv(\"/kaggle/input/playground-series-s4e8/sample_submission.csv\")"
   ]
  },
  {
   "cell_type": "code",
   "execution_count": 4,
   "id": "fc2b9639",
   "metadata": {
    "execution": {
     "iopub.execute_input": "2024-08-01T07:02:44.477991Z",
     "iopub.status.busy": "2024-08-01T07:02:44.477616Z",
     "iopub.status.idle": "2024-08-01T07:02:44.484829Z",
     "shell.execute_reply": "2024-08-01T07:02:44.483903Z"
    },
    "papermill": {
     "duration": 0.013565,
     "end_time": "2024-08-01T07:02:44.486957",
     "exception": false,
     "start_time": "2024-08-01T07:02:44.473392",
     "status": "completed"
    },
    "tags": []
   },
   "outputs": [
    {
     "data": {
      "text/plain": [
       "(3116945, 22)"
      ]
     },
     "execution_count": 4,
     "metadata": {},
     "output_type": "execute_result"
    }
   ],
   "source": [
    "data_train.shape"
   ]
  },
  {
   "cell_type": "code",
   "execution_count": 5,
   "id": "a73e8fa2",
   "metadata": {
    "execution": {
     "iopub.execute_input": "2024-08-01T07:02:44.495235Z",
     "iopub.status.busy": "2024-08-01T07:02:44.494452Z",
     "iopub.status.idle": "2024-08-01T07:02:44.501076Z",
     "shell.execute_reply": "2024-08-01T07:02:44.500060Z"
    },
    "papermill": {
     "duration": 0.013421,
     "end_time": "2024-08-01T07:02:44.503483",
     "exception": false,
     "start_time": "2024-08-01T07:02:44.490062",
     "status": "completed"
    },
    "tags": []
   },
   "outputs": [
    {
     "data": {
      "text/plain": [
       "(2077964, 21)"
      ]
     },
     "execution_count": 5,
     "metadata": {},
     "output_type": "execute_result"
    }
   ],
   "source": [
    "data_test.shape"
   ]
  },
  {
   "cell_type": "code",
   "execution_count": 6,
   "id": "8b1cb200",
   "metadata": {
    "execution": {
     "iopub.execute_input": "2024-08-01T07:02:44.512083Z",
     "iopub.status.busy": "2024-08-01T07:02:44.511459Z",
     "iopub.status.idle": "2024-08-01T07:02:44.517765Z",
     "shell.execute_reply": "2024-08-01T07:02:44.516758Z"
    },
    "papermill": {
     "duration": 0.012814,
     "end_time": "2024-08-01T07:02:44.519899",
     "exception": false,
     "start_time": "2024-08-01T07:02:44.507085",
     "status": "completed"
    },
    "tags": []
   },
   "outputs": [
    {
     "data": {
      "text/plain": [
       "(2077964, 2)"
      ]
     },
     "execution_count": 6,
     "metadata": {},
     "output_type": "execute_result"
    }
   ],
   "source": [
    "data_sample_sub.shape"
   ]
  }
 ],
 "metadata": {
  "kaggle": {
   "accelerator": "none",
   "dataSources": [
    {
     "databundleVersionId": 9045607,
     "sourceId": 76727,
     "sourceType": "competition"
    }
   ],
   "dockerImageVersionId": 30746,
   "isGpuEnabled": false,
   "isInternetEnabled": true,
   "language": "python",
   "sourceType": "notebook"
  },
  "kernelspec": {
   "display_name": "Python 3",
   "language": "python",
   "name": "python3"
  },
  "language_info": {
   "codemirror_mode": {
    "name": "ipython",
    "version": 3
   },
   "file_extension": ".py",
   "mimetype": "text/x-python",
   "name": "python",
   "nbconvert_exporter": "python",
   "pygments_lexer": "ipython3",
   "version": "3.10.13"
  },
  "papermill": {
   "default_parameters": {},
   "duration": 22.898575,
   "end_time": "2024-08-01T07:02:45.445206",
   "environment_variables": {},
   "exception": null,
   "input_path": "__notebook__.ipynb",
   "output_path": "__notebook__.ipynb",
   "parameters": {},
   "start_time": "2024-08-01T07:02:22.546631",
   "version": "2.5.0"
  }
 },
 "nbformat": 4,
 "nbformat_minor": 5
}
